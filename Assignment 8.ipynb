{
 "cells": [
  {
   "cell_type": "markdown",
   "metadata": {
    "id": "hYxeQDZH9CuR"
   },
   "source": [
    "#Assignment 8"
   ]
  },
  {
   "cell_type": "markdown",
   "metadata": {
    "id": "yvuqmwV09KKJ"
   },
   "source": [
    "\n",
    "\n",
    "> Q. Is the Python Standard Library included with PyInputPlus?\n",
    "\n"
   ]
  },
  {
   "cell_type": "markdown",
   "metadata": {
    "id": "6Ognbtln9RWJ"
   },
   "source": [
    "\n",
    "\n",
    "*   Ans. PyInputPlus is not a part of the Python Standard Library, so you must install it separately using Pip\n",
    "\n"
   ]
  },
  {
   "cell_type": "code",
   "execution_count": 8,
   "metadata": {
    "colab": {
     "base_uri": "https://localhost:8080/"
    },
    "executionInfo": {
     "elapsed": 27064,
     "status": "ok",
     "timestamp": 1626785744842,
     "user": {
      "displayName": "Yuno Clover",
      "photoUrl": "",
      "userId": "14793961318254159012"
     },
     "user_tz": -330
    },
    "id": "BwS4YoFp89v8",
    "outputId": "49fcbf29-8112-495a-aa2f-a85ad473cc3f"
   },
   "outputs": [
    {
     "name": "stdout",
     "output_type": "stream",
     "text": [
      "Requirement already satisfied: pyinputplus in /opt/anaconda3/lib/python3.8/site-packages (0.2.8)\r\n",
      "Requirement already satisfied: pysimplevalidate>=0.2.7 in /opt/anaconda3/lib/python3.8/site-packages (from pyinputplus) (0.2.9)\r\n",
      "Requirement already satisfied: stdiomask>=0.0.3 in /opt/anaconda3/lib/python3.8/site-packages (from pyinputplus) (0.0.5)\r\n"
     ]
    }
   ],
   "source": [
    "!pip install pyinputplus\n"
   ]
  },
  {
   "cell_type": "markdown",
   "metadata": {
    "id": "NOyGKuD39oHM"
   },
   "source": [
    "\n",
    "\n",
    "> Q. Why is PyInputPlus commonly imported with import pyinputplus as pypi?\n",
    "\n"
   ]
  },
  {
   "cell_type": "markdown",
   "metadata": {
    "id": "shoGIRQk9oDu"
   },
   "source": [
    "\n",
    "\n",
    "*   Ans. pypi is alias of PyInputPlus.\n",
    "The as pyip code in the import statement saves us from typing pyinputplus each time we want to call a PyInputPlus function. Instead we can use the shorter pyip name\n",
    "\n"
   ]
  },
  {
   "cell_type": "markdown",
   "metadata": {
    "id": "19UysHQw9oCN"
   },
   "source": [
    "\n",
    "\n",
    "> Q. How do you distinguish between inputInt() and inputFloat()?\n",
    "\n"
   ]
  },
  {
   "cell_type": "markdown",
   "metadata": {
    "id": "tGeE1cMP9n-L"
   },
   "source": [
    "\n",
    "\n",
    "*   Ans. inputInt() : Accepts an integer value, and returns int value <br>\n",
    "inputFloat() : Accepts integer/floating point value and returns float value<br>\n",
    "\n",
    "\n"
   ]
  },
  {
   "cell_type": "code",
   "execution_count": 9,
   "metadata": {
    "colab": {
     "base_uri": "https://localhost:8080/"
    },
    "executionInfo": {
     "elapsed": 8197,
     "status": "ok",
     "timestamp": 1626785785236,
     "user": {
      "displayName": "Yuno Clover",
      "photoUrl": "",
      "userId": "14793961318254159012"
     },
     "user_tz": -330
    },
    "id": "w5M0vA4y9kmR",
    "outputId": "3947378d-bbf3-4d5e-87f4-76f7def7f352"
   },
   "outputs": [
    {
     "name": "stdout",
     "output_type": "stream",
     "text": [
      "\n",
      "Blank values are not allowed.\n",
      "\n",
      "Blank values are not allowed.\n",
      "\n",
      "Blank values are not allowed.\n",
      "\n",
      "Blank values are not allowed.\n",
      "78\n",
      "89.0\n"
     ]
    },
    {
     "data": {
      "text/plain": [
       "89.0"
      ]
     },
     "execution_count": 9,
     "metadata": {},
     "output_type": "execute_result"
    }
   ],
   "source": [
    "import pyinputplus as pyip\n",
    "pyip.inputInt()\n",
    "pyip.inputFloat()"
   ]
  },
  {
   "cell_type": "markdown",
   "metadata": {
    "id": "f3aj-pau_dG8"
   },
   "source": [
    "\n",
    "\n",
    "> Q. Using PyInputPlus, how do you ensure that the user enters a whole number between 0 and 99?\n",
    "\n"
   ]
  },
  {
   "cell_type": "markdown",
   "metadata": {
    "id": "3im4gWNQ_k5K"
   },
   "source": [
    "\n",
    "\n",
    "*  Ans. In the inputint function we can set the min = 0 and max =99 to ensure user enters number between 0 and 99\n",
    "\n",
    "\n",
    "\n",
    "\n",
    "\n"
   ]
  },
  {
   "cell_type": "code",
   "execution_count": 10,
   "metadata": {
    "colab": {
     "base_uri": "https://localhost:8080/"
    },
    "executionInfo": {
     "elapsed": 6247,
     "status": "ok",
     "timestamp": 1626785926642,
     "user": {
      "displayName": "Yuno Clover",
      "photoUrl": "",
      "userId": "14793961318254159012"
     },
     "user_tz": -330
    },
    "id": "NFKInO8V-8r9",
    "outputId": "49806b24-b696-4fbb-89f0-2a5fdf305cd5"
   },
   "outputs": [
    {
     "name": "stdout",
     "output_type": "stream",
     "text": [
      "\n",
      "Blank values are not allowed.\n",
      "0987654\n",
      "Number must be at maximum 99.\n",
      "77\n"
     ]
    },
    {
     "data": {
      "text/plain": [
       "77"
      ]
     },
     "execution_count": 10,
     "metadata": {},
     "output_type": "execute_result"
    }
   ],
   "source": [
    "pyip.inputInt(min = 0, max =99)"
   ]
  },
  {
   "cell_type": "markdown",
   "metadata": {
    "id": "Xhw_oJ9X_4wT"
   },
   "source": [
    "\n",
    "\n",
    "> Q. What is transferred to the keyword arguments allowRegexes and blockRegexes?\n",
    "\n"
   ]
  },
  {
   "cell_type": "markdown",
   "metadata": {
    "id": "gzPxmn0T_8s8"
   },
   "source": [
    "\n",
    "\n",
    "*   Ans. We can also use regular expressions to specify whether an input is allowed or not. The allowRegexes and blockRegexes \n",
    "keyword arguments take a list of regular expression strings to determine what the PyInputPlus function will accept or \n",
    "reject as valid input.\n",
    "\n"
   ]
  },
  {
   "cell_type": "code",
   "execution_count": 11,
   "metadata": {
    "colab": {
     "base_uri": "https://localhost:8080/"
    },
    "executionInfo": {
     "elapsed": 10049,
     "status": "ok",
     "timestamp": 1626786019883,
     "user": {
      "displayName": "Yuno Clover",
      "photoUrl": "",
      "userId": "14793961318254159012"
     },
     "user_tz": -330
    },
    "id": "qMZU_3jM_wj3",
    "outputId": "820e6c0b-fcf2-483e-dd08-d86036669c25"
   },
   "outputs": [
    {
     "name": "stdout",
     "output_type": "stream",
     "text": [
      "kjhgf345678\n",
      "'kjhgf345678' is not a number.\n",
      "987\n"
     ]
    }
   ],
   "source": [
    "response = pyip.inputNum(allowRegexes=[r'(I|V|X|L|C|D|M)+', r'zero']) # it allowes roman letters as numbers too"
   ]
  },
  {
   "cell_type": "code",
   "execution_count": 13,
   "metadata": {
    "colab": {
     "base_uri": "https://localhost:8080/"
    },
    "executionInfo": {
     "elapsed": 20540,
     "status": "ok",
     "timestamp": 1626786052757,
     "user": {
      "displayName": "Yuno Clover",
      "photoUrl": "",
      "userId": "14793961318254159012"
     },
     "user_tz": -330
    },
    "id": "_FxuK7PmAF0O",
    "outputId": "e7051677-feb2-48d5-c9f5-103b55edca59"
   },
   "outputs": [
    {
     "name": "stdout",
     "output_type": "stream",
     "text": [
      "88\n",
      "This response is invalid.\n",
      "87\n"
     ]
    }
   ],
   "source": [
    "response = pyip.inputNum(blockRegexes=[r'[02468]$'])# blocks the even numbers"
   ]
  },
  {
   "cell_type": "markdown",
   "metadata": {
    "id": "dshHzSSRAZ9r"
   },
   "source": [
    "\n",
    "\n",
    "> Q. If a blank input is entered three times, what does inputStr(limit=3) do?\n",
    "\n"
   ]
  },
  {
   "cell_type": "markdown",
   "metadata": {
    "id": "AWH9eMxeAeVN"
   },
   "source": [
    "\n",
    "\n",
    "*   Ans. It will throw RetryLimitException exception.\n",
    "\n"
   ]
  },
  {
   "cell_type": "code",
   "execution_count": 17,
   "metadata": {
    "colab": {
     "base_uri": "https://localhost:8080/",
     "height": 578
    },
    "executionInfo": {
     "elapsed": 13782,
     "status": "error",
     "timestamp": 1626786207227,
     "user": {
      "displayName": "Yuno Clover",
      "photoUrl": "",
      "userId": "14793961318254159012"
     },
     "user_tz": -330
    },
    "id": "i2B_BA4fAOgm",
    "outputId": "395ad202-0cd3-4cd4-843e-140461c02f42"
   },
   "outputs": [
    {
     "name": "stdout",
     "output_type": "stream",
     "text": [
      "hello\n"
     ]
    }
   ],
   "source": [
    "response = pyip.inputStr(limit=3)\n"
   ]
  },
  {
   "cell_type": "markdown",
   "metadata": {
    "id": "ne9oFcnnA9AF"
   },
   "source": [
    "> Q. If blank input is entered three times, what does inputStr(limit=3, default='hello') do?"
   ]
  },
  {
   "cell_type": "markdown",
   "metadata": {
    "id": "CLn-jdhqBBXb"
   },
   "source": [
    "\n",
    "\n",
    "*   When you use limit keyword arguments and also pass a default keyword argument, the function returns the default value instead of raising an exception\n",
    "\n"
   ]
  },
  {
   "cell_type": "code",
   "execution_count": 18,
   "metadata": {
    "colab": {
     "base_uri": "https://localhost:8080/",
     "height": 137
    },
    "executionInfo": {
     "elapsed": 4099,
     "status": "ok",
     "timestamp": 1626786277470,
     "user": {
      "displayName": "Yuno Clover",
      "photoUrl": "",
      "userId": "14793961318254159012"
     },
     "user_tz": -330
    },
    "id": "NpxnyErIA13r",
    "outputId": "5ec7c2a2-f4ee-48c2-e149-3b720a061fa1"
   },
   "outputs": [
    {
     "name": "stdout",
     "output_type": "stream",
     "text": [
      "89\n"
     ]
    },
    {
     "data": {
      "text/plain": [
       "'89'"
      ]
     },
     "execution_count": 18,
     "metadata": {},
     "output_type": "execute_result"
    }
   ],
   "source": [
    "response = pyip.inputStr(limit=3,default='hello')\n",
    "response"
   ]
  },
  {
   "cell_type": "code",
   "execution_count": null,
   "metadata": {},
   "outputs": [],
   "source": []
  }
 ],
 "metadata": {
  "colab": {
   "authorship_tag": "ABX9TyNtQjiUK+OZ9eQcIYOAUdLu",
   "collapsed_sections": [],
   "name": "Python Basic Assignment 8.ipynb",
   "provenance": []
  },
  "kernelspec": {
   "display_name": "Python 3",
   "language": "python",
   "name": "python3"
  },
  "language_info": {
   "codemirror_mode": {
    "name": "ipython",
    "version": 3
   },
   "file_extension": ".py",
   "mimetype": "text/x-python",
   "name": "python",
   "nbconvert_exporter": "python",
   "pygments_lexer": "ipython3",
   "version": "3.8.8"
  }
 },
 "nbformat": 4,
 "nbformat_minor": 1
}
