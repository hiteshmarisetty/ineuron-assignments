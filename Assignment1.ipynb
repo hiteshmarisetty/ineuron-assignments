{
 "cells": [
  {
   "cell_type": "markdown",
   "id": "ce3236b1",
   "metadata": {},
   "source": [
    "1. In the below elements which of them are values or an expression? eg:- values can be\n",
    "integer or string and expressions will be mathematical operators.\n"
   ]
  },
  {
   "cell_type": "markdown",
   "id": "dc428628",
   "metadata": {},
   "source": [
    "* multiplication operator mathematical operator\n",
    "'hello'string type string value\n",
    "-87.8 integer value\n",
    "- operator negative(Subtraction)mathematical operator\n",
    "/operator Division(Division)mathematical operator\n",
    "+operator Addition(Addition)mathematical operator\n",
    "6 integer value\n",
    "\n",
    "\n"
   ]
  },
  {
   "cell_type": "markdown",
   "id": "13d0c005",
   "metadata": {},
   "source": [
    "2.What is the difference between string and variable?"
   ]
  },
  {
   "cell_type": "markdown",
   "id": "605877b5",
   "metadata": {},
   "source": [
    "\n",
    "A Variable is a store of information, and a String is a type of information you would store in a Variable\n",
    "we can even re declare variables"
   ]
  },
  {
   "cell_type": "markdown",
   "id": "f10fc505",
   "metadata": {},
   "source": [
    "3.Describe three different data types."
   ]
  },
  {
   "cell_type": "markdown",
   "id": "cc945026",
   "metadata": {},
   "source": [
    "Character Used for Encoding text numerically Example\t97 (in ASCII, 97 is a lower case 'a')\n",
    "Float (floating point) Used for Number with a decimal point Example\t3.15, 9.06, 00.13\n",
    "Integer Used for \tWhole numbers Example\t7, 12, 999\n",
    "Boolean\tUsed for Representing logical values Example\tTRUE, FALSE"
   ]
  },
  {
   "cell_type": "markdown",
   "id": "6f4c948a",
   "metadata": {},
   "source": [
    "4. What is an expression made up of? What do all expressions do?"
   ]
  },
  {
   "cell_type": "markdown",
   "id": "d566918a",
   "metadata": {},
   "source": [
    "An expression is a construct made up of variables, operators, and method invocations, which are constructed according to the syntax of the language, that evaluates to a single value.\n",
    "Expressions are representations of value. They are different from statement in the fact that statements do something while expressions are representation of value. For example any string is also an expressions since it represents the value of the string as well"
   ]
  },
  {
   "cell_type": "markdown",
   "id": "8e948879",
   "metadata": {},
   "source": [
    "5. This assignment statements, like spam = 10. What is the difference between an\n",
    "expression and a statement?"
   ]
  },
  {
   "cell_type": "markdown",
   "id": "fae689ed",
   "metadata": {},
   "source": [
    "An expression is something that can be reduced to a value\n",
    " spam = 10\n",
    " is a statement not expression as it can reduced to the value "
   ]
  },
  {
   "cell_type": "markdown",
   "id": "5c3354fb",
   "metadata": {},
   "source": [
    "6,After running the following code, what does the variable bacon contain?\n",
    "bacon = 22\n",
    "bacon + 1\n",
    "ans.baon contain 23"
   ]
  },
  {
   "cell_type": "markdown",
   "id": "97278473",
   "metadata": {},
   "source": [
    "7. What should the values of the following two terms be?\n",
    "'spam'+ 'spamspam'\n",
    "'spam' * 3\n",
    "ans.'spamspamspam','spamspamspam' both are same"
   ]
  },
  {
   "cell_type": "markdown",
   "id": "665f8e28",
   "metadata": {},
   "source": [
    "8. Why is eggs a valid variable name while 100 is invalid?\n",
    "ans variable name cant start with number"
   ]
  },
  {
   "cell_type": "markdown",
   "id": "dbf2a451",
   "metadata": {},
   "source": [
    "9. What three functions can be used to get the integer, floating-point number, or string\n",
    "version of a value?\n",
    "ans.int(), float(), and str()"
   ]
  },
  {
   "cell_type": "markdown",
   "id": "985ad56e",
   "metadata": {},
   "source": [
    "10. Why does this expression cause an error? How can you fix it?\n",
    "'I have eaten' + 99 + 'burritos'\n",
    "Ans we cant concatinate string with int"
   ]
  },
  {
   "cell_type": "code",
   "execution_count": null,
   "id": "c3d09b89",
   "metadata": {},
   "outputs": [],
   "source": []
  },
  {
   "cell_type": "code",
   "execution_count": null,
   "id": "8b8122bc",
   "metadata": {},
   "outputs": [],
   "source": []
  },
  {
   "cell_type": "code",
   "execution_count": null,
   "id": "738210cb",
   "metadata": {},
   "outputs": [],
   "source": []
  },
  {
   "cell_type": "code",
   "execution_count": null,
   "id": "0e75bb49",
   "metadata": {},
   "outputs": [],
   "source": []
  },
  {
   "cell_type": "code",
   "execution_count": null,
   "id": "55a0320e",
   "metadata": {},
   "outputs": [],
   "source": []
  }
 ],
 "metadata": {
  "kernelspec": {
   "display_name": "Python 3",
   "language": "python",
   "name": "python3"
  },
  "language_info": {
   "codemirror_mode": {
    "name": "ipython",
    "version": 3
   },
   "file_extension": ".py",
   "mimetype": "text/x-python",
   "name": "python",
   "nbconvert_exporter": "python",
   "pygments_lexer": "ipython3",
   "version": "3.8.8"
  }
 },
 "nbformat": 4,
 "nbformat_minor": 5
}
